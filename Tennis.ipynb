{
 "cells": [
  {
   "cell_type": "markdown",
   "metadata": {},
   "source": [
    "# Collaboration and Competition: Tennis\n",
    "\n",
    "---\n",
    "\n",
    "This notebook trains two DDPG agents collaboratively playing tennis.\n",
    "\n",
    "### 1. Start the Environment\n",
    "\n",
    "Run the next code cell to install a few packages.  This line will take a few minutes to run!"
   ]
  },
  {
   "cell_type": "code",
   "execution_count": 1,
   "metadata": {},
   "outputs": [
    {
     "name": "stdout",
     "output_type": "stream",
     "text": [
      "\u001b[31mtensorflow 1.7.1 has requirement numpy>=1.13.3, but you'll have numpy 1.12.1 which is incompatible.\u001b[0m\r\n",
      "\u001b[31mipython 6.5.0 has requirement prompt-toolkit<2.0.0,>=1.0.15, but you'll have prompt-toolkit 3.0.5 which is incompatible.\u001b[0m\r\n"
     ]
    }
   ],
   "source": [
    "!pip -q install ./python"
   ]
  },
  {
   "cell_type": "code",
   "execution_count": 2,
   "metadata": {},
   "outputs": [],
   "source": [
    "from unityagents import UnityEnvironment\n",
    "import numpy as np\n",
    "import random\n",
    "import torch\n",
    "import time\n",
    "from collections import deque\n",
    "from agent import Agent\n",
    "import workspace_utils\n",
    "import matplotlib.pyplot as plt\n",
    "%matplotlib inline\n",
    "import time"
   ]
  },
  {
   "cell_type": "code",
   "execution_count": 3,
   "metadata": {},
   "outputs": [
    {
     "name": "stderr",
     "output_type": "stream",
     "text": [
      "INFO:unityagents:\n",
      "'Academy' started successfully!\n",
      "Unity Academy name: Academy\n",
      "        Number of Brains: 1\n",
      "        Number of External Brains : 1\n",
      "        Lesson number : 0\n",
      "        Reset Parameters :\n",
      "\t\t\n",
      "Unity brain name: TennisBrain\n",
      "        Number of Visual Observations (per agent): 0\n",
      "        Vector Observation space type: continuous\n",
      "        Vector Observation space size (per agent): 8\n",
      "        Number of stacked Vector Observation: 3\n",
      "        Vector Action space type: continuous\n",
      "        Vector Action space size (per agent): 2\n",
      "        Vector Action descriptions: , \n"
     ]
    }
   ],
   "source": [
    "env = UnityEnvironment(file_name=\"/data/Tennis_Linux_NoVis/Tennis\")"
   ]
  },
  {
   "cell_type": "markdown",
   "metadata": {},
   "source": [
    "Environments contain **_brains_** which are responsible for deciding the actions of their associated agents. Here we check for the first brain available, and set it as the default brain we will be controlling from Python."
   ]
  },
  {
   "cell_type": "code",
   "execution_count": 4,
   "metadata": {},
   "outputs": [],
   "source": [
    "# get the default brain\n",
    "brain_name = env.brain_names[0]\n",
    "brain = env.brains[brain_name]"
   ]
  },
  {
   "cell_type": "markdown",
   "metadata": {},
   "source": [
    "### 2. Examine the State and Action Spaces\n",
    "\n",
    "Run the code cell below to print some information about the environment."
   ]
  },
  {
   "cell_type": "code",
   "execution_count": 5,
   "metadata": {},
   "outputs": [
    {
     "name": "stdout",
     "output_type": "stream",
     "text": [
      "Number of agents: 2\n",
      "Size of each action: 2\n",
      "There are 2 agents. Each observes a state with length: 24\n",
      "The state for the first agent looks like: [ 0.          0.          0.          0.          0.          0.          0.\n",
      "  0.          0.          0.          0.          0.          0.          0.\n",
      "  0.          0.         -6.65278625 -1.5        -0.          0.\n",
      "  6.83172083  6.         -0.          0.        ]\n"
     ]
    }
   ],
   "source": [
    "# reset the environment\n",
    "env_info = env.reset(train_mode=True)[brain_name]\n",
    "\n",
    "# number of agents \n",
    "num_agents = len(env_info.agents)\n",
    "print('Number of agents:', num_agents)\n",
    "\n",
    "# size of each action\n",
    "action_size = brain.vector_action_space_size\n",
    "print('Size of each action:', action_size)\n",
    "\n",
    "# examine the state space \n",
    "states = env_info.vector_observations\n",
    "state_size = states.shape[1]\n",
    "print('There are {} agents. Each observes a state with length: {}'.format(states.shape[0], state_size))\n",
    "print('The state for the first agent looks like:', states[0])"
   ]
  },
  {
   "cell_type": "code",
   "execution_count": 6,
   "metadata": {},
   "outputs": [],
   "source": [
    "# Define two agents\n",
    "agent1 = Agent(state_size=state_size, action_size=action_size, random_seed=0)\n",
    "agent2 = Agent(state_size=state_size, action_size=action_size, random_seed=0)\n",
    "agents = [agent1, agent2]"
   ]
  },
  {
   "cell_type": "code",
   "execution_count": 7,
   "metadata": {},
   "outputs": [],
   "source": [
    "# DDPG implementation based on Udacity's bipedal code\n",
    "def ddpg(n_episodes=4096, goal=0.5, print_every=100):\n",
    "    scores = []\n",
    "    scores_window = deque(maxlen=100)\n",
    "    t_sum = 0 \n",
    "    \n",
    "    for i_episode in range(n_episodes):\n",
    "        t_0 = time.time()\n",
    "        env_info = env.reset(train_mode=True)[brain_name]\n",
    "        states = env_info.vector_observations\n",
    "        agent1.reset()\n",
    "        agent2.reset()\n",
    "        scores_episode = np.zeros(num_agents)\n",
    "        steps = 0\n",
    "        \n",
    "        while True:\n",
    "            action1 = agent1.act(states[0])            \n",
    "            action2 = agent2.act(states[1]) \n",
    "            actions = [action1, action2]\n",
    "            env_info = env.step(actions)[brain_name]\n",
    "            \n",
    "            next_states = env_info.vector_observations\n",
    "            rewards = env_info.rewards                         \n",
    "            dones = env_info.local_done                       \n",
    "            \n",
    "            agent1.step(states[0], actions[0], rewards[0], next_states[0], dones[0])\n",
    "            agent2.step(states[0], actions[0], rewards[0], next_states[0], dones[0])\n",
    "            \n",
    "            states = next_states\n",
    "            scores_episode += rewards\n",
    "            steps += 1\n",
    "            if np.any(dones):                               \n",
    "                break\n",
    "                \n",
    "        score = np.max(scores_episode)\n",
    "        scores.append(score)\n",
    "        scores_window.append(score)\n",
    "        avg = np.mean(scores_window)            \n",
    "        t_delta = time.time() - t_0\n",
    "        t_sum += t_delta \n",
    "        if i_episode % print_every == 0:\n",
    "            print('Episode: {}\\tScore: {:.2f}\\tAvg: {:.2f}\\tTook: {:.2f}sec\\tTotal: {:.2f}min\\tSteps: {}'.format(i_episode, score, avg, t_delta, t_sum/60, steps))\n",
    "        if avg > goal:\n",
    "            print(\"\\n\\nSolved in {} episodes with {:.2f} avg score after {:.2f}min.\".format(i_episode, avg, t_sum/60))\n",
    "            torch.save(agent1.actor_local.state_dict(), 'checkpoint_actor1.pth')\n",
    "            torch.save(agent1.critic_local.state_dict(), 'checkpoint_critic1.pth')\n",
    "            torch.save(agent2.actor_local.state_dict(), 'checkpoint_actor2.pth')\n",
    "            torch.save(agent2.critic_local.state_dict(), 'checkpoint_critic2.pth')\n",
    "            break\n",
    "\n",
    "    return scores"
   ]
  },
  {
   "cell_type": "code",
   "execution_count": 8,
   "metadata": {},
   "outputs": [
    {
     "name": "stdout",
     "output_type": "stream",
     "text": [
      "Episode: 0\tScore: 0.00\tAvg: 0.00\tTook: 0.13sec\tTotal: 0.00min\tSteps: 15\n",
      "Episode: 100\tScore: 0.00\tAvg: 0.00\tTook: 0.41sec\tTotal: 0.62min\tSteps: 15\n",
      "Episode: 200\tScore: 0.00\tAvg: 0.01\tTook: 0.42sec\tTotal: 1.33min\tSteps: 14\n",
      "Episode: 300\tScore: 0.00\tAvg: 0.01\tTook: 0.39sec\tTotal: 2.04min\tSteps: 14\n",
      "Episode: 400\tScore: 0.00\tAvg: 0.00\tTook: 0.37sec\tTotal: 2.70min\tSteps: 14\n",
      "Episode: 500\tScore: 0.00\tAvg: 0.00\tTook: 0.37sec\tTotal: 3.36min\tSteps: 14\n",
      "Episode: 600\tScore: 0.00\tAvg: 0.00\tTook: 0.40sec\tTotal: 4.02min\tSteps: 15\n",
      "Episode: 700\tScore: 0.10\tAvg: 0.02\tTook: 0.83sec\tTotal: 4.86min\tSteps: 31\n",
      "Episode: 800\tScore: 0.00\tAvg: 0.02\tTook: 0.38sec\tTotal: 5.65min\tSteps: 14\n",
      "Episode: 900\tScore: 0.00\tAvg: 0.00\tTook: 0.37sec\tTotal: 6.32min\tSteps: 14\n",
      "Episode: 1000\tScore: 0.00\tAvg: 0.04\tTook: 0.85sec\tTotal: 7.32min\tSteps: 32\n",
      "Episode: 1100\tScore: 0.00\tAvg: 0.04\tTook: 0.38sec\tTotal: 8.31min\tSteps: 14\n",
      "Episode: 1200\tScore: 0.00\tAvg: 0.03\tTook: 0.34sec\tTotal: 9.15min\tSteps: 13\n",
      "Episode: 1300\tScore: 0.00\tAvg: 0.07\tTook: 0.37sec\tTotal: 10.35min\tSteps: 14\n",
      "Episode: 1400\tScore: 0.10\tAvg: 0.07\tTook: 0.80sec\tTotal: 11.63min\tSteps: 30\n",
      "Episode: 1500\tScore: 0.10\tAvg: 0.10\tTook: 0.89sec\tTotal: 13.12min\tSteps: 31\n",
      "Episode: 1600\tScore: 0.10\tAvg: 0.09\tTook: 0.86sec\tTotal: 14.54min\tSteps: 31\n",
      "Episode: 1700\tScore: 0.10\tAvg: 0.11\tTook: 0.83sec\tTotal: 16.24min\tSteps: 30\n",
      "Episode: 1800\tScore: 0.10\tAvg: 0.11\tTook: 0.89sec\tTotal: 18.00min\tSteps: 31\n",
      "Episode: 1900\tScore: 0.10\tAvg: 0.19\tTook: 1.39sec\tTotal: 21.47min\tSteps: 52\n",
      "Episode: 2000\tScore: 0.10\tAvg: 0.36\tTook: 1.44sec\tTotal: 27.92min\tSteps: 52\n",
      "\n",
      "\n",
      "Solved in 2085 episodes with 0.51 avg score after 35.96min.\n"
     ]
    }
   ],
   "source": [
    "# Starts the training\n",
    "from workspace_utils import active_session\n",
    " \n",
    "with active_session():\n",
    "    scores = ddpg()"
   ]
  },
  {
   "cell_type": "code",
   "execution_count": 9,
   "metadata": {},
   "outputs": [],
   "source": [
    "env.close()"
   ]
  },
  {
   "cell_type": "code",
   "execution_count": 10,
   "metadata": {},
   "outputs": [
    {
     "data": {
      "image/png": "[encoded data removed]",
      "text/plain": [
       "<matplotlib.figure.Figure at 0x7f9c0366be10>"
      ]
     },
     "metadata": {
      "needs_background": "light"
     },
     "output_type": "display_data"
    }
   ],
   "source": [
    "# Plot results\n",
    "fig = plt.figure()\n",
    "ax = fig.add_subplot(111)\n",
    "plt.plot(np.arange(1, len(scores)+1), scores)\n",
    "plt.ylabel('Score')\n",
    "plt.xlabel('#Episode')\n",
    "plt.show()"
   ]
  }
 ],
 "metadata": {
  "kernelspec": {
   "display_name": "Python 3",
   "language": "python",
   "name": "python3"
  },
  "language_info": {
   "codemirror_mode": {
    "name": "ipython",
    "version": 3
   },
   "file_extension": ".py",
   "mimetype": "text/x-python",
   "name": "python",
   "nbconvert_exporter": "python",
   "pygments_lexer": "ipython3",
   "version": "3.6.3"
  }
 },
 "nbformat": 4,
 "nbformat_minor": 2
}
